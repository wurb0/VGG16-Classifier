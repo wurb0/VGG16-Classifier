{
  "cells": [
    {
      "cell_type": "code",
      "execution_count": null,
      "id": "53739f12",
      "metadata": {
        "id": "53739f12"
      },
      "outputs": [],
      "source": [
        "import pandas as pd\n",
        "from sklearn.model_selection import train_test_split\n",
        "import torch\n",
        "from torch.utils.data import Dataset, DataLoader\n",
        "import torch.nn as nn\n",
        "import matplotlib.pyplot as plt\n",
        "import torch.optim as optim\n",
        "from torch.utils.data import ConcatDataset\n",
        "from torchvision import transforms\n",
        "from PIL import Image\n",
        "import numpy as np\n",
        "import torchvision.models as models\n"
      ]
    },
    {
      "cell_type": "code",
      "execution_count": null,
      "id": "a225a863",
      "metadata": {
        "colab": {
          "base_uri": "https://localhost:8080/"
        },
        "id": "a225a863",
        "outputId": "b78a8d29-5fcd-446d-e50a-111c603d44e2"
      },
      "outputs": [
        {
          "name": "stdout",
          "output_type": "stream",
          "text": [
            "cuda\n",
            "False\n",
            "Using device: cuda\n"
          ]
        }
      ],
      "source": [
        "torch.manual_seed(42)\n",
        "device = torch.device('cuda' if torch.cuda.is_available() else 'cpu')\n",
        "print(device)\n",
        "print(torch.backends.mps.is_available())\n",
        "\n",
        "if torch.backends.mps.is_available():\n",
        "    device = torch.device(\"mps\")  # Apple GPU\n",
        "elif torch.cuda.is_available():\n",
        "    device = torch.device(\"cuda\") # NVIDIA GPU\n",
        "else:\n",
        "    device = torch.device(\"cpu\")  #fallback\n",
        "print(\"Using device:\", device)\n",
        "\n"
      ]
    },
    {
      "cell_type": "code",
      "execution_count": 37,
      "id": "7e95c990",
      "metadata": {
        "colab": {
          "base_uri": "https://localhost:8080/"
        },
        "id": "7e95c990",
        "outputId": "71b7abd8-a052-4675-fa8d-13cf417053ed"
      },
      "outputs": [
        {
          "data": {
            "text/plain": [
              "(60000, 785)"
            ]
          },
          "execution_count": 37,
          "metadata": {},
          "output_type": "execute_result"
        }
      ],
      "source": [
        "df = pd.read_csv('fashion-mnist_train.csv')\n",
        "#df = pd.read_csv('fmnist_small.csv')\n",
        "df.head()\n",
        "df.shape\n"
      ]
    },
    {
      "cell_type": "code",
      "execution_count": 38,
      "id": "a444471c",
      "metadata": {
        "id": "a444471c"
      },
      "outputs": [],
      "source": [
        "#train test split data\n",
        "x = df.iloc[:,1:].values #pixel values starting from col 1\n",
        "y = df.iloc[:,0].values # y is the label\n"
      ]
    },
    {
      "cell_type": "code",
      "execution_count": 39,
      "id": "1be27720",
      "metadata": {
        "colab": {
          "base_uri": "https://localhost:8080/"
        },
        "id": "1be27720",
        "outputId": "66cf5b79-e21a-442f-8162-74c98ed5e41f"
      },
      "outputs": [
        {
          "name": "stdout",
          "output_type": "stream",
          "text": [
            "x_train_full shape: (48000, 784)\n",
            "y_train_full shape: (48000,)\n",
            "x_test shape: (12000, 784)\n",
            "y_test shape: (12000,)\n"
          ]
        }
      ],
      "source": [
        "x_train_full , x_test, y_train_full, y_test = train_test_split(x,y, test_size=0.2, random_state=42)\n",
        "print(\"x_train_full shape:\", x_train_full.shape)\n",
        "print(\"y_train_full shape:\", y_train_full.shape)\n",
        "print(\"x_test shape:\", x_test.shape)\n",
        "print(\"y_test shape:\", y_test.shape)\n",
        "\n"
      ]
    },
    {
      "cell_type": "code",
      "execution_count": null,
      "id": "da320f0c",
      "metadata": {
        "id": "da320f0c"
      },
      "outputs": [],
      "source": [
        "x_train, x_val, y_train, y_val = train_test_split(\n",
        "    x_train_full, y_train_full, test_size=0.1, random_state=42\n",
        ")\n"
      ]
    },
    {
      "cell_type": "code",
      "execution_count": 41,
      "id": "42b8cd86",
      "metadata": {
        "id": "42b8cd86"
      },
      "outputs": [],
      "source": [
        "#transformations\n",
        "\n",
        "custom_transform = transforms.Compose([\n",
        "    transforms.Resize(256),\n",
        "    transforms.CenterCrop(224),\n",
        "    transforms.ToTensor(),\n",
        "    transforms.Normalize(mean=[0.485, 0.456, 0.406], std=[0.229, 0.224, 0.225])\n",
        "])"
      ]
    },
    {
      "cell_type": "code",
      "execution_count": null,
      "id": "f16c5ac0",
      "metadata": {
        "id": "f16c5ac0"
      },
      "outputs": [],
      "source": [
        "#create customdataset class\n",
        "class CustomDataset(Dataset):\n",
        "\n",
        "    def __init__(self, features, labels,transform):\n",
        "        #convert to pytroch tensors\n",
        "        self.features = torch.tensor(features, dtype=torch.float32).reshape(-1,1,28,28) ## change -1\n",
        "        self.labels = torch.tensor(labels, dtype=torch.long)\n",
        "        self.transform = transform\n",
        "\n",
        "    def __len__(self):\n",
        "        return len(self.features)\n",
        "\n",
        "    def __getitem__(self, index):\n",
        "        #resize to 28x28\n",
        "        image = self.features[index].reshape(28,28)\n",
        "\n",
        "        #change data type to np.uint8\n",
        "        #image = image.astype(np.uint8)\n",
        "        image = image.numpy().astype(np.uint8)\n",
        "\n",
        "        #change to color & (H,W,C) to C,H,W\n",
        "        image = np.stack([image]*3 , axis=-1)\n",
        "        #convert array to PIL img\n",
        "        image = Image.fromarray(image)\n",
        "\n",
        "        #apply custom transforms\n",
        "        image = self.transform(image)\n",
        "        #if self.transform:\n",
        "           # image = self.transform(image)\n",
        "\n",
        "        #return\n",
        "        return image, torch.tensor(self.labels[index], dtype= torch.long) \n"
      ]
    },
    {
      "cell_type": "code",
      "execution_count": 43,
      "id": "01a99d30",
      "metadata": {
        "id": "01a99d30"
      },
      "outputs": [],
      "source": [
        "# create train dataset object\n",
        "train_dataset = CustomDataset(x_train,y_train, transform=custom_transform)\n",
        "#create test dataset object\n",
        "test_dataset = CustomDataset(x_test,y_test, transform=custom_transform)\n",
        "val_dataset = CustomDataset(x_val,y_val,transform=custom_transform)\n",
        "\n",
        "\n"
      ]
    },
    {
      "cell_type": "code",
      "execution_count": null,
      "id": "67abf6e6",
      "metadata": {
        "id": "67abf6e6"
      },
      "outputs": [],
      "source": [
        "train_loader = DataLoader(train_dataset, batch_size=32, shuffle=True, pin_memory=True)\n",
        "test_loader = DataLoader(test_dataset, batch_size=32, shuffle=False, pin_memory=True)\n",
        "\n",
        "#val loader"
      ]
    },
    {
      "cell_type": "code",
      "execution_count": 45,
      "id": "0104257e",
      "metadata": {
        "colab": {
          "base_uri": "https://localhost:8080/"
        },
        "id": "0104257e",
        "outputId": "d617be29-ab1a-47ac-dc83-e30d6485ba7d"
      },
      "outputs": [
        {
          "name": "stderr",
          "output_type": "stream",
          "text": [
            "/usr/local/lib/python3.12/dist-packages/torchvision/models/_utils.py:208: UserWarning: The parameter 'pretrained' is deprecated since 0.13 and may be removed in the future, please use 'weights' instead.\n",
            "  warnings.warn(\n",
            "/usr/local/lib/python3.12/dist-packages/torchvision/models/_utils.py:223: UserWarning: Arguments other than a weight enum or `None` for 'weights' are deprecated since 0.13 and may be removed in the future. The current behavior is equivalent to passing `weights=VGG16_Weights.IMAGENET1K_V1`. You can also use `weights=VGG16_Weights.DEFAULT` to get the most up-to-date weights.\n",
            "  warnings.warn(msg)\n"
          ]
        }
      ],
      "source": [
        "#get vgg16\n",
        "vgg16 = models.vgg16(pretrained = True)\n",
        "\n",
        "#freeze conv / features layers\n",
        "for param in vgg16.features.parameters():\n",
        "    param.requires_grad = False\n"
      ]
    },
    {
      "cell_type": "code",
      "execution_count": 46,
      "id": "205a57a7",
      "metadata": {
        "colab": {
          "base_uri": "https://localhost:8080/"
        },
        "id": "205a57a7",
        "outputId": "7015774a-06e1-4f72-9196-3d18f69a2ae4"
      },
      "outputs": [
        {
          "data": {
            "text/plain": [
              "VGG(\n",
              "  (features): Sequential(\n",
              "    (0): Conv2d(3, 64, kernel_size=(3, 3), stride=(1, 1), padding=(1, 1))\n",
              "    (1): ReLU(inplace=True)\n",
              "    (2): Conv2d(64, 64, kernel_size=(3, 3), stride=(1, 1), padding=(1, 1))\n",
              "    (3): ReLU(inplace=True)\n",
              "    (4): MaxPool2d(kernel_size=2, stride=2, padding=0, dilation=1, ceil_mode=False)\n",
              "    (5): Conv2d(64, 128, kernel_size=(3, 3), stride=(1, 1), padding=(1, 1))\n",
              "    (6): ReLU(inplace=True)\n",
              "    (7): Conv2d(128, 128, kernel_size=(3, 3), stride=(1, 1), padding=(1, 1))\n",
              "    (8): ReLU(inplace=True)\n",
              "    (9): MaxPool2d(kernel_size=2, stride=2, padding=0, dilation=1, ceil_mode=False)\n",
              "    (10): Conv2d(128, 256, kernel_size=(3, 3), stride=(1, 1), padding=(1, 1))\n",
              "    (11): ReLU(inplace=True)\n",
              "    (12): Conv2d(256, 256, kernel_size=(3, 3), stride=(1, 1), padding=(1, 1))\n",
              "    (13): ReLU(inplace=True)\n",
              "    (14): Conv2d(256, 256, kernel_size=(3, 3), stride=(1, 1), padding=(1, 1))\n",
              "    (15): ReLU(inplace=True)\n",
              "    (16): MaxPool2d(kernel_size=2, stride=2, padding=0, dilation=1, ceil_mode=False)\n",
              "    (17): Conv2d(256, 512, kernel_size=(3, 3), stride=(1, 1), padding=(1, 1))\n",
              "    (18): ReLU(inplace=True)\n",
              "    (19): Conv2d(512, 512, kernel_size=(3, 3), stride=(1, 1), padding=(1, 1))\n",
              "    (20): ReLU(inplace=True)\n",
              "    (21): Conv2d(512, 512, kernel_size=(3, 3), stride=(1, 1), padding=(1, 1))\n",
              "    (22): ReLU(inplace=True)\n",
              "    (23): MaxPool2d(kernel_size=2, stride=2, padding=0, dilation=1, ceil_mode=False)\n",
              "    (24): Conv2d(512, 512, kernel_size=(3, 3), stride=(1, 1), padding=(1, 1))\n",
              "    (25): ReLU(inplace=True)\n",
              "    (26): Conv2d(512, 512, kernel_size=(3, 3), stride=(1, 1), padding=(1, 1))\n",
              "    (27): ReLU(inplace=True)\n",
              "    (28): Conv2d(512, 512, kernel_size=(3, 3), stride=(1, 1), padding=(1, 1))\n",
              "    (29): ReLU(inplace=True)\n",
              "    (30): MaxPool2d(kernel_size=2, stride=2, padding=0, dilation=1, ceil_mode=False)\n",
              "  )\n",
              "  (avgpool): AdaptiveAvgPool2d(output_size=(7, 7))\n",
              "  (classifier): Sequential(\n",
              "    (0): Linear(in_features=25088, out_features=1024, bias=True)\n",
              "    (1): ReLU()\n",
              "    (2): Dropout(p=0.5, inplace=False)\n",
              "    (3): Linear(in_features=1024, out_features=512, bias=True)\n",
              "    (4): ReLU()\n",
              "    (5): Dropout(p=0.4, inplace=False)\n",
              "    (6): Linear(in_features=512, out_features=10, bias=True)\n",
              "  )\n",
              ")"
            ]
          },
          "execution_count": 46,
          "metadata": {},
          "output_type": "execute_result"
        }
      ],
      "source": [
        "#our own classifier\n",
        "vgg16.classifier = nn.Sequential(\n",
        "    nn.Linear(25088,1024),\n",
        "    nn.ReLU(),\n",
        "    nn.Dropout(0.5),\n",
        "    nn.Linear(1024,512),\n",
        "    nn.ReLU(),\n",
        "    nn.Dropout(0.4),\n",
        "    nn.Linear(512,10)\n",
        ")\n",
        "vgg16.to(device)"
      ]
    },
    {
      "cell_type": "code",
      "execution_count": 47,
      "id": "a79e7e3e",
      "metadata": {
        "id": "a79e7e3e"
      },
      "outputs": [],
      "source": [
        "learning_rate = 0.0001\n",
        "epochs = 6\n",
        "criterion = nn.CrossEntropyLoss()\n",
        "optimizer = optim.Adam(vgg16.classifier.parameters(), lr=learning_rate)"
      ]
    },
    {
      "cell_type": "code",
      "execution_count": 48,
      "id": "d62237f5",
      "metadata": {
        "colab": {
          "base_uri": "https://localhost:8080/"
        },
        "id": "d62237f5",
        "outputId": "72381bbd-03bc-42c0-8339-bcfc410830fe"
      },
      "outputs": [
        {
          "name": "stderr",
          "output_type": "stream",
          "text": [
            "/tmp/ipython-input-4073485404.py:32: UserWarning: To copy construct from a tensor, it is recommended to use sourceTensor.detach().clone() or sourceTensor.detach().clone().requires_grad_(True), rather than torch.tensor(sourceTensor).\n",
            "  return image, torch.tensor(self.labels[index], dtype= torch.long)  #why are we doing this tensor\n"
          ]
        },
        {
          "name": "stdout",
          "output_type": "stream",
          "text": [
            "Epoch: 1 , Loss: 0.3583094042594786\n",
            "Epoch: 2 , Loss: 0.21347526237368583\n",
            "Epoch: 3 , Loss: 0.16314352163769028\n",
            "Epoch: 4 , Loss: 0.12834874063316318\n",
            "Epoch: 5 , Loss: 0.09951428454826344\n",
            "Epoch: 6 , Loss: 0.07855323327843237\n"
          ]
        }
      ],
      "source": [
        "#training loop\n",
        "\n",
        "for epoch in range(epochs):\n",
        "    tota_epoch_loss = 0\n",
        "\n",
        "    for batch_featueres, batch_labels in train_loader:\n",
        "        batch_featueres , batch_labels = batch_featueres.to(device) , batch_labels.to(device)\n",
        "\n",
        "        outputs = vgg16(batch_featueres)\n",
        "        #print(outputs.shape)\n",
        "        #print(batch_labels.shape)\n",
        "\n",
        "        loss = criterion(outputs, batch_labels)\n",
        "\n",
        "        optimizer.zero_grad()\n",
        "        loss.backward()\n",
        "        optimizer.step()\n",
        "\n",
        "        tota_epoch_loss = tota_epoch_loss + loss.item()\n",
        "\n",
        "    avg_loss = tota_epoch_loss / len(train_loader)\n",
        "    print(f'Epoch: {epoch + 1} , Loss: {avg_loss}')"
      ]
    },
    {
      "cell_type": "code",
      "execution_count": null,
      "id": "YgUdcGx_67zM",
      "metadata": {
        "colab": {
          "base_uri": "https://localhost:8080/"
        },
        "id": "YgUdcGx_67zM",
        "outputId": "08a80cc3-7da7-41f8-d22e-781c18c6a57e"
      },
      "outputs": [
        {
          "data": {
            "text/plain": [
              "VGG(\n",
              "  (features): Sequential(\n",
              "    (0): Conv2d(3, 64, kernel_size=(3, 3), stride=(1, 1), padding=(1, 1))\n",
              "    (1): ReLU(inplace=True)\n",
              "    (2): Conv2d(64, 64, kernel_size=(3, 3), stride=(1, 1), padding=(1, 1))\n",
              "    (3): ReLU(inplace=True)\n",
              "    (4): MaxPool2d(kernel_size=2, stride=2, padding=0, dilation=1, ceil_mode=False)\n",
              "    (5): Conv2d(64, 128, kernel_size=(3, 3), stride=(1, 1), padding=(1, 1))\n",
              "    (6): ReLU(inplace=True)\n",
              "    (7): Conv2d(128, 128, kernel_size=(3, 3), stride=(1, 1), padding=(1, 1))\n",
              "    (8): ReLU(inplace=True)\n",
              "    (9): MaxPool2d(kernel_size=2, stride=2, padding=0, dilation=1, ceil_mode=False)\n",
              "    (10): Conv2d(128, 256, kernel_size=(3, 3), stride=(1, 1), padding=(1, 1))\n",
              "    (11): ReLU(inplace=True)\n",
              "    (12): Conv2d(256, 256, kernel_size=(3, 3), stride=(1, 1), padding=(1, 1))\n",
              "    (13): ReLU(inplace=True)\n",
              "    (14): Conv2d(256, 256, kernel_size=(3, 3), stride=(1, 1), padding=(1, 1))\n",
              "    (15): ReLU(inplace=True)\n",
              "    (16): MaxPool2d(kernel_size=2, stride=2, padding=0, dilation=1, ceil_mode=False)\n",
              "    (17): Conv2d(256, 512, kernel_size=(3, 3), stride=(1, 1), padding=(1, 1))\n",
              "    (18): ReLU(inplace=True)\n",
              "    (19): Conv2d(512, 512, kernel_size=(3, 3), stride=(1, 1), padding=(1, 1))\n",
              "    (20): ReLU(inplace=True)\n",
              "    (21): Conv2d(512, 512, kernel_size=(3, 3), stride=(1, 1), padding=(1, 1))\n",
              "    (22): ReLU(inplace=True)\n",
              "    (23): MaxPool2d(kernel_size=2, stride=2, padding=0, dilation=1, ceil_mode=False)\n",
              "    (24): Conv2d(512, 512, kernel_size=(3, 3), stride=(1, 1), padding=(1, 1))\n",
              "    (25): ReLU(inplace=True)\n",
              "    (26): Conv2d(512, 512, kernel_size=(3, 3), stride=(1, 1), padding=(1, 1))\n",
              "    (27): ReLU(inplace=True)\n",
              "    (28): Conv2d(512, 512, kernel_size=(3, 3), stride=(1, 1), padding=(1, 1))\n",
              "    (29): ReLU(inplace=True)\n",
              "    (30): MaxPool2d(kernel_size=2, stride=2, padding=0, dilation=1, ceil_mode=False)\n",
              "  )\n",
              "  (avgpool): AdaptiveAvgPool2d(output_size=(7, 7))\n",
              "  (classifier): Sequential(\n",
              "    (0): Linear(in_features=25088, out_features=1024, bias=True)\n",
              "    (1): ReLU()\n",
              "    (2): Dropout(p=0.5, inplace=False)\n",
              "    (3): Linear(in_features=1024, out_features=512, bias=True)\n",
              "    (4): ReLU()\n",
              "    (5): Dropout(p=0.4, inplace=False)\n",
              "    (6): Linear(in_features=512, out_features=10, bias=True)\n",
              "  )\n",
              ")"
            ]
          },
          "execution_count": 49,
          "metadata": {},
          "output_type": "execute_result"
        }
      ],
      "source": [
        "vgg16.eval()"
      ]
    },
    {
      "cell_type": "code",
      "execution_count": 50,
      "id": "9sTP9dmS6-sT",
      "metadata": {
        "colab": {
          "base_uri": "https://localhost:8080/"
        },
        "id": "9sTP9dmS6-sT",
        "outputId": "7e0497e8-ca3f-4628-aa65-cbfa10d1849c"
      },
      "outputs": [
        {
          "name": "stderr",
          "output_type": "stream",
          "text": [
            "/tmp/ipython-input-4073485404.py:32: UserWarning: To copy construct from a tensor, it is recommended to use sourceTensor.detach().clone() or sourceTensor.detach().clone().requires_grad_(True), rather than torch.tensor(sourceTensor).\n",
            "  return image, torch.tensor(self.labels[index], dtype= torch.long)  #why are we doing this tensor\n"
          ]
        },
        {
          "name": "stdout",
          "output_type": "stream",
          "text": [
            "0.927\n"
          ]
        }
      ],
      "source": [
        "# evaluation on test data\n",
        "total = 0\n",
        "correct = 0\n",
        "\n",
        "with torch.no_grad():\n",
        "\n",
        "  for batch_features, batch_labels in test_loader:\n",
        "\n",
        "    # move data to gpu\n",
        "    batch_features, batch_labels = batch_features.to(device), batch_labels.to(device)\n",
        "\n",
        "    outputs = vgg16(batch_features)\n",
        "\n",
        "    _, predicted = torch.max(outputs, 1)\n",
        "\n",
        "    total = total + batch_labels.shape[0]\n",
        "\n",
        "    correct = correct + (predicted == batch_labels).sum().item()\n",
        "\n",
        "print(correct/total)"
      ]
    },
    {
      "cell_type": "code",
      "execution_count": 51,
      "id": "BNKT556t6_xk",
      "metadata": {
        "colab": {
          "base_uri": "https://localhost:8080/"
        },
        "id": "BNKT556t6_xk",
        "outputId": "103b80c1-c32a-4b4a-d53c-0d802c845be2"
      },
      "outputs": [
        {
          "name": "stderr",
          "output_type": "stream",
          "text": [
            "/tmp/ipython-input-4073485404.py:32: UserWarning: To copy construct from a tensor, it is recommended to use sourceTensor.detach().clone() or sourceTensor.detach().clone().requires_grad_(True), rather than torch.tensor(sourceTensor).\n",
            "  return image, torch.tensor(self.labels[index], dtype= torch.long)  #why are we doing this tensor\n"
          ]
        },
        {
          "name": "stdout",
          "output_type": "stream",
          "text": [
            "0.991550925925926\n"
          ]
        }
      ],
      "source": [
        "# evaluation on training data\n",
        "total = 0\n",
        "correct = 0\n",
        "\n",
        "with torch.no_grad():\n",
        "\n",
        "  for batch_features, batch_labels in train_loader:\n",
        "\n",
        "    # move data to gpu\n",
        "    batch_features, batch_labels = batch_features.to(device), batch_labels.to(device)\n",
        "\n",
        "    outputs = vgg16(batch_features)\n",
        "\n",
        "    _, predicted = torch.max(outputs, 1)\n",
        "\n",
        "    total = total + batch_labels.shape[0]\n",
        "\n",
        "    correct = correct + (predicted == batch_labels).sum().item()\n",
        "\n",
        "print(correct/total)"
      ]
    },
    {
      "cell_type": "code",
      "execution_count": 1,
      "id": "gtMctnQg35b3",
      "metadata": {
        "id": "gtMctnQg35b3"
      },
      "outputs": [
        {
          "ename": "NameError",
          "evalue": "name 'torch' is not defined",
          "output_type": "error",
          "traceback": [
            "\u001b[0;31m---------------------------------------------------------------------------\u001b[0m",
            "\u001b[0;31mNameError\u001b[0m                                 Traceback (most recent call last)",
            "Cell \u001b[0;32mIn[1], line 2\u001b[0m\n\u001b[1;32m      1\u001b[0m \u001b[38;5;66;03m#save model\u001b[39;00m\n\u001b[0;32m----> 2\u001b[0m \u001b[43mtorch\u001b[49m\u001b[38;5;241m.\u001b[39msave(vgg16\u001b[38;5;241m.\u001b[39mstate_dict(), \u001b[38;5;124m\"\u001b[39m\u001b[38;5;124mvgg16_fmnist.pth\u001b[39m\u001b[38;5;124m\"\u001b[39m)\n",
            "\u001b[0;31mNameError\u001b[0m: name 'torch' is not defined"
          ]
        }
      ],
      "source": [
        "#save model\n",
        "torch.save(vgg16.state_dict(), \"vgg16_fmnist.pth\")"
      ]
    },
    {
      "cell_type": "code",
      "execution_count": 4,
      "id": "1ecb3929",
      "metadata": {},
      "outputs": [],
      "source": [
        "# #results:\n",
        "# Epoch: 1 , Loss: 0.3583094042594786\n",
        "# Epoch: 2 , Loss: 0.21347526237368583\n",
        "# Epoch: 3 , Loss: 0.16314352163769028\n",
        "# Epoch: 4 , Loss: 0.12834874063316318\n",
        "# Epoch: 5 , Loss: 0.09951428454826344\n",
        "# Epoch: 6 , Loss: 0.07855323327843237\n",
        "\n",
        "# test data: 0.927\n",
        "# training data: 0.9915509"
      ]
    }
  ],
  "metadata": {
    "accelerator": "GPU",
    "colab": {
      "gpuType": "T4",
      "provenance": []
    },
    "kernelspec": {
      "display_name": "animal-classifier-env",
      "language": "python",
      "name": "python3"
    },
    "language_info": {
      "codemirror_mode": {
        "name": "ipython",
        "version": 3
      },
      "file_extension": ".py",
      "mimetype": "text/x-python",
      "name": "python",
      "nbconvert_exporter": "python",
      "pygments_lexer": "ipython3",
      "version": "3.10.0"
    }
  },
  "nbformat": 4,
  "nbformat_minor": 5
}
